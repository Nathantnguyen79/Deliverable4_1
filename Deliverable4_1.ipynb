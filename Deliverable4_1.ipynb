{
  "nbformat": 4,
  "nbformat_minor": 0,
  "metadata": {
    "colab": {
      "provenance": []
    },
    "kernelspec": {
      "name": "python3",
      "display_name": "Python 3"
    },
    "language_info": {
      "name": "python"
    }
  },
  "cells": [
    {
      "cell_type": "code",
      "execution_count": 7,
      "metadata": {
        "colab": {
          "base_uri": "https://localhost:8080/"
        },
        "id": "dyxRw2stmCJI",
        "outputId": "caa60e3c-06fe-4df8-9f4b-87a61cd1cde0"
      },
      "outputs": [
        {
          "output_type": "stream",
          "name": "stdout",
          "text": [
            "Please enter an interger: 16\n",
            "You entered a number greater than 15\n",
            "Please enter an interger: 6\n",
            "The elements of the arrays are:  [18, 11, 49, 34, 21, 44]\n",
            "The sum is  177\n"
          ]
        }
      ],
      "source": [
        "import numpy as np\n",
        "a = int(input(\"Please enter an interger: \"))\n",
        "n = []\n",
        "def main():\n",
        "  for i in range(a):\n",
        "     elements = np.random.randint(10, 50)\n",
        "     n.append(elements)\n",
        "     total = sum(n)\n",
        "  print(\"The elements of the arrays are: \", n)\n",
        "def main_sum():\n",
        "  total = sum(n)\n",
        "  print(\"The sum is \", total)\n",
        "while a < 5:\n",
        "  print(\"You entered a number less than 5\")\n",
        "  a = int(input(\"Please enter an interger: \"))\n",
        "while a > 15:\n",
        "  print(\"You entered a number greater than 15\")\n",
        "  a = int(input(\"Please enter an interger: \"))\n",
        "main()\n",
        "main_sum()\n",
        "\n"
      ]
    }
  ]
}